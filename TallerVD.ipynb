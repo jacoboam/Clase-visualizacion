{
 "cells": [
  {
   "cell_type": "markdown",
   "metadata": {},
   "source": [
    "# Taller 1 \n"
   ]
  },
  {
   "cell_type": "markdown",
   "metadata": {},
   "source": [
    "## Primera visualización"
   ]
  },
  {
   "cell_type": "markdown",
   "metadata": {},
   "source": [
    "![](grafica.png)"
   ]
  },
  {
   "cell_type": "markdown",
   "metadata": {},
   "source": [
    "#### Fuente: https://www.datos.gov.co/Educaci-n/RESULTADO-ICFES-POR-DEPARTAMENTO/vxwe-bk96"
   ]
  },
  {
   "cell_type": "markdown",
   "metadata": {},
   "source": [
    "### ¿Qué?"
   ]
  },
  {
   "cell_type": "markdown",
   "metadata": {},
   "source": [
    "Se observan dos variables :\n",
    "- Departamento(cualitativa nominal)\n",
    "- Porcentaje global(cuantitativa continua)\n",
    "\n",
    "Además se observa que la variable departamentos esta ordenada de manera secuencial, es decir, que me muestra en ranking el mejor promedio del puntaje global del icfes ."
   ]
  },
  {
   "cell_type": "markdown",
   "metadata": {},
   "source": [
    "### ¿Por qué?"
   ]
  },
  {
   "cell_type": "markdown",
   "metadata": {},
   "source": [
    "Ya en el por qué se observa que el grafico busca:\n",
    "  - <span style=\"color:green\">Presentar</span> los <span style=\"color:blue\">atributos</span>\n",
    "  - <span style=\"color:green\">Identificar</span> <span style=\"color:blue\">posiciones</span>"
   ]
  },
  {
   "cell_type": "markdown",
   "metadata": {},
   "source": [
    "### ¿Cómo?"
   ]
  },
  {
   "cell_type": "markdown",
   "metadata": {},
   "source": [
    "Se observa que se uso un Barplot con un arreglo alineado."
   ]
  },
  {
   "cell_type": "markdown",
   "metadata": {},
   "source": [
    "### Marcas y Canales"
   ]
  },
  {
   "cell_type": "markdown",
   "metadata": {},
   "source": [
    "- Marca de linea\n",
    "- Canal de posición espacial vertical para el atributo cuantitativo\n",
    "- canal de posición espacial horizontal para el atributo cualitativo\n"
   ]
  },
  {
   "cell_type": "markdown",
   "metadata": {},
   "source": [
    "La verdad no haría cambios ya que lo que se quiere mostrar con esos datos se representa bien en esa visualización.\n",
    "En cuanto a las reglas me parece que respeta el mantra de las visualizaciones y muestra toda la información."
   ]
  },
  {
   "cell_type": "markdown",
   "metadata": {},
   "source": [
    "## Segunda Visualización"
   ]
  },
  {
   "cell_type": "markdown",
   "metadata": {},
   "source": [
    "![](grafica2.png)"
   ]
  },
  {
   "cell_type": "markdown",
   "metadata": {},
   "source": [
    "Fuente:https://informationisbeautiful.net/visualizations/diversity-in-tech/"
   ]
  },
  {
   "cell_type": "markdown",
   "metadata": {},
   "source": [
    "### ¿Qué?"
   ]
  },
  {
   "cell_type": "markdown",
   "metadata": {},
   "source": [
    "Se puede observar que hay 3 variables:\n",
    "- Entidad tecnológica (cualitativa nominal)\n",
    "- Genero (Categórica, Dicotómica)\n",
    "- etnicidad (Categórica, politómica con 6 niveles)\n",
    "\n",
    "Además se puede mirar en diferentes años para ser mas precisos del 2014 al 2017 la variación de los empleados.\n"
   ]
  },
  {
   "cell_type": "markdown",
   "metadata": {},
   "source": [
    "### ¿Por qué?"
   ]
  },
  {
   "cell_type": "markdown",
   "metadata": {},
   "source": [
    "Se observa que la visualización <span style=\"color:green\">Presenta</span> <span style=\"color:blue\">caracteristicas</span> y <span style=\"color:blue\">tendencias</span> de las empresas"
   ]
  },
  {
   "cell_type": "markdown",
   "metadata": {},
   "source": [
    "También nos permite <span style=\"color:green\">comparar</span> <span style=\"color:blue\">tendencias</span> entre las empresas."
   ]
  },
  {
   "cell_type": "markdown",
   "metadata": {},
   "source": [
    "### ¿Cómo?"
   ]
  },
  {
   "cell_type": "markdown",
   "metadata": {},
   "source": [
    "La visualización nos muestra varias graficas en barras de frecuencia donde solo en la variable genero se ve una representación con color donde morado son las mujeres y verde los hombres, también permite filtrar los resultados por lo que también tienen un arreglo ordenado."
   ]
  },
  {
   "cell_type": "markdown",
   "metadata": {},
   "source": [
    "### Marcas y Canales"
   ]
  },
  {
   "cell_type": "markdown",
   "metadata": {},
   "source": [
    "En el genero se ve una marca de linea junto con un canal de color mientras que la variable etnicidad mostrada por cada nivel\n",
    "tiene una marca de linea y un canal de tamaño.\n"
   ]
  },
  {
   "cell_type": "markdown",
   "metadata": {},
   "source": [
    "Me parece que falta aclarar información como la cantidad de cada empresa ya que toca hacer las cuentas para saber que son 100,\n",
    "ademas que no se sabe si hay un muestreo probabilistico o no probabilistico.\n",
    "En cuanto a las reglas me parece que lo que busca presentar esta claro."
   ]
  }
 ],
 "metadata": {
  "kernelspec": {
   "display_name": "Python 3",
   "language": "python",
   "name": "python3"
  },
  "language_info": {
   "codemirror_mode": {
    "name": "ipython",
    "version": 3
   },
   "file_extension": ".py",
   "mimetype": "text/x-python",
   "name": "python",
   "nbconvert_exporter": "python",
   "pygments_lexer": "ipython3",
   "version": "3.8.5"
  }
 },
 "nbformat": 4,
 "nbformat_minor": 4
}
